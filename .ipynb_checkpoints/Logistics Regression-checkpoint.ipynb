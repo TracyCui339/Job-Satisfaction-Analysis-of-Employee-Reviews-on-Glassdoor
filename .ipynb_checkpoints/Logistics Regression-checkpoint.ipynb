{
 "cells": [
  {
   "cell_type": "code",
   "execution_count": 1,
   "id": "28fd0089",
   "metadata": {},
   "outputs": [],
   "source": [
    "import numpy as np\n",
    "import pandas as pd\n",
    "import matplotlib.pyplot as plt\n",
    "\n",
    "from sklearn.linear_model import LinearRegression\n",
    "from sklearn.metrics import mean_squared_error, r2_score"
   ]
  },
  {
   "cell_type": "code",
   "execution_count": 2,
   "id": "a78b528c",
   "metadata": {},
   "outputs": [],
   "source": [
    "file_name='newedit.csv'\n",
    "df_data=pd.read_csv(file_name, sep=',',index_col=None,encoding='ISO-8859-1')"
   ]
  },
  {
   "cell_type": "code",
   "execution_count": 3,
   "id": "fba52e10",
   "metadata": {},
   "outputs": [],
   "source": [
    "df_data.rename(columns={'overall-ratings':'overall'},inplace=True)\n",
    "df_data.rename(columns={'work-balance-stars':'rating1'},inplace=True)\n",
    "df_data.rename(columns={'culture-values-stars':'rating2'},inplace=True)\n",
    "df_data.rename(columns={'carrer-opportunities-stars':'rating3'},inplace=True)\n",
    "df_data.rename(columns={'comp-benefit-stars':'rating4'},inplace=True)\n",
    "df_data.rename(columns={'senior-mangemnet-stars':'rating5'},inplace=True)"
   ]
  },
  {
   "cell_type": "code",
   "execution_count": 4,
   "id": "2c8c6f1d",
   "metadata": {},
   "outputs": [],
   "source": [
    "df_data = df_data.applymap(lambda x: x if x!='none' else np.nan)\n",
    "df_data = df_data.dropna(subset=['rating1','rating2','rating3','rating4','rating5'])"
   ]
  },
  {
   "cell_type": "code",
   "execution_count": 5,
   "id": "beb46a37",
   "metadata": {},
   "outputs": [
    {
     "name": "stdout",
     "output_type": "stream",
     "text": [
      "<class 'pandas.core.frame.DataFrame'>\n",
      "Int64Index: 53218 entries, 0 to 66981\n",
      "Data columns (total 16 columns):\n",
      " #   Column          Non-Null Count  Dtype \n",
      "---  ------          --------------  ----- \n",
      " 0   idex            53218 non-null  int64 \n",
      " 1   company         53218 non-null  string\n",
      " 2   location        35711 non-null  string\n",
      " 3   dates           53218 non-null  object\n",
      " 4   job-title       53218 non-null  string\n",
      " 5   summary         53135 non-null  string\n",
      " 6   pros            53218 non-null  string\n",
      " 7   cons            53217 non-null  string\n",
      " 8   advice-to-mgmt  30371 non-null  string\n",
      " 9   overall         53218 non-null  int64 \n",
      " 10  rating1         53218 non-null  int64 \n",
      " 11  rating2         53218 non-null  int64 \n",
      " 12  rating3         53218 non-null  int64 \n",
      " 13  rating4         53218 non-null  int64 \n",
      " 14  rating5         53218 non-null  int64 \n",
      " 15  helpful-count   53218 non-null  int64 \n",
      "dtypes: int64(8), object(1), string(7)\n",
      "memory usage: 6.9+ MB\n"
     ]
    }
   ],
   "source": [
    "dtypes={'rating1':'int64',\n",
    "        'rating2':'int64',\n",
    "        'rating3':'int64',\n",
    "        'rating4':'int64',\n",
    "        'rating5':'int64',\n",
    "        'company':'string',\n",
    "        'location':'string',\n",
    "        'job-title':'string',\n",
    "        'summary':'string',\n",
    "        'pros':'string',\n",
    "        'cons':'string',\n",
    "        'advice-to-mgmt':'string'}\n",
    "df_data=df_data.astype(dtypes)\n",
    "df_data.info()"
   ]
  },
  {
   "cell_type": "code",
   "execution_count": 7,
   "id": "ab7cc75f",
   "metadata": {},
   "outputs": [],
   "source": [
    "job_position = df_data['job-title']"
   ]
  },
  {
   "cell_type": "code",
   "execution_count": 8,
   "id": "952864e7",
   "metadata": {},
   "outputs": [
    {
     "name": "stdout",
     "output_type": "stream",
     "text": [
      "   idex company           location      dates  \\\n",
      "0     1  google               <NA>  11-Dec-18   \n",
      "1     2  google  Mountain View, CA  21-Jun-13   \n",
      "2     3  google       New York, NY  10-May-14   \n",
      "3     4  google  Mountain View, CA   8-Feb-15   \n",
      "4     5  google    Los Angeles, CA  19-Jul-18   \n",
      "\n",
      "                                  job-title  \\\n",
      "0     Current Employee - Anonymous Employee   \n",
      "1         Former Employee - Program Manager   \n",
      "2  Current Employee - Software Engineer III   \n",
      "3     Current Employee - Anonymous Employee   \n",
      "4       Former Employee - Software Engineer   \n",
      "\n",
      "                                             summary  \\\n",
      "0                           Best Company to work for   \n",
      "1  Moving at the speed of light, burn out is inev...   \n",
      "2  Great balance between big-company security and...   \n",
      "3  The best place I've worked and also the most d...   \n",
      "4                    Unique, one of a kind dream job   \n",
      "\n",
      "                                                pros  \\\n",
      "0                      People are smart and friendly   \n",
      "1  1) Food, food, food. 15+ cafes on main campus ...   \n",
      "2  * If you're a software engineer, you're among ...   \n",
      "3  You can't find a more well-regarded company th...   \n",
      "4  Google is a world of its own. At every other c...   \n",
      "\n",
      "                                                cons  \\\n",
      "0                 Bureaucracy is slowing things down   \n",
      "1  1) Work/life balance. What balance? All those ...   \n",
      "2  * It *is* becoming larger, and with it comes g...   \n",
      "3  I live in SF so the commute can take between 1...   \n",
      "4  If you don't work in MTV (HQ), you will be giv...   \n",
      "\n",
      "                                      advice-to-mgmt  overall  rating1  \\\n",
      "0                                               <NA>        5        4   \n",
      "1  1) Don't dismiss emotional intelligence and ad...        4        2   \n",
      "2  Keep the focus on the user. Everything else wi...        5        5   \n",
      "3  Keep on NOT micromanaging - that is a huge ben...        5        2   \n",
      "4  Promote managers into management for their man...        5        5   \n",
      "\n",
      "   rating2  rating3  rating4  rating5  helpful-count  Tech  \n",
      "0        5        5        4        5              0     0  \n",
      "1        3        3        5        3           2094     0  \n",
      "2        4        5        5        4            949     1  \n",
      "3        5        5        4        5            498     0  \n",
      "4        5        5        5        5             49     1  \n"
     ]
    }
   ],
   "source": [
    "import re\n",
    "\n",
    "\n",
    "# 判断职位名称是否包含特定词汇，将结果保存到新列中\n",
    "df_data['Tech'] = job_position.apply(lambda x: 1 if re.search(r'test|3D|engineer|technician|analyst|AWS|Azure|automation|technology|ASIC|architect|scientist|AFE|AHA|applications|deverloper|researcher|data|web|analytical|AOS|APP|analytics|BI|Big data|systems|cloud|computer|crm|cs|database|tech|technical|electrical|electric|software|engineering|fraud|GIS|hardware|information|analyst|infrastructure|IOS|IT|Mac|machine|mechanical|microsoft|network|oracle|QA|Quality|research|SDE|search|security|siri|solutions|systems|tier|VCS|virtual|warehouse|web|wireless|iphone', x, re.IGNORECASE) else 0)\n",
    "\n",
    "print(df_data.head())"
   ]
  },
  {
   "cell_type": "code",
   "execution_count": 9,
   "id": "d07af30f",
   "metadata": {},
   "outputs": [],
   "source": [
    "#针对是否是技术岗位和几个评分建立逻辑回归模型"
   ]
  },
  {
   "cell_type": "code",
   "execution_count": 12,
   "id": "3e169207",
   "metadata": {},
   "outputs": [],
   "source": [
    "X = df_data[['rating1','rating2','rating3','rating4','rating5']]\n",
    "y = df_data['Tech']"
   ]
  },
  {
   "cell_type": "code",
   "execution_count": 13,
   "id": "24d450b9",
   "metadata": {},
   "outputs": [
    {
     "data": {
      "text/plain": [
       "(53218, 5)"
      ]
     },
     "execution_count": 13,
     "metadata": {},
     "output_type": "execute_result"
    }
   ],
   "source": [
    "X.shape"
   ]
  },
  {
   "cell_type": "code",
   "execution_count": 14,
   "id": "97a64b27",
   "metadata": {},
   "outputs": [
    {
     "data": {
      "text/plain": [
       "(53218,)"
      ]
     },
     "execution_count": 14,
     "metadata": {},
     "output_type": "execute_result"
    }
   ],
   "source": [
    "y.shape"
   ]
  },
  {
   "cell_type": "code",
   "execution_count": 15,
   "id": "f0292151",
   "metadata": {},
   "outputs": [],
   "source": [
    "# set aside 80% of data for testing\n",
    "from sklearn.model_selection import train_test_split\n",
    "X_train, X_test, y_train, y_test = train_test_split(X, y, test_size=0.8, random_state=1, shuffle=True)"
   ]
  },
  {
   "cell_type": "code",
   "execution_count": 17,
   "id": "fe87ab87",
   "metadata": {},
   "outputs": [],
   "source": [
    "from sklearn.linear_model import LogisticRegression\n",
    "log_regression = LogisticRegression(solver='lbfgs')\n",
    "# train the logistic regression model\n",
    "_ = log_regression.fit(X_train, y_train)\n",
    "y_test_pred = log_regression.predict(X_test)"
   ]
  },
  {
   "cell_type": "code",
   "execution_count": 18,
   "id": "b3388d0d",
   "metadata": {},
   "outputs": [
    {
     "name": "stdout",
     "output_type": "stream",
     "text": [
      "[[ 0.01958413 -0.0213397   0.086347   -0.03909206  0.02015967]]\n",
      "[-1.09410455]\n"
     ]
    }
   ],
   "source": [
    "print(log_regression.coef_)\n",
    "print(log_regression.intercept_)"
   ]
  },
  {
   "cell_type": "code",
   "execution_count": 19,
   "id": "61d0c052",
   "metadata": {},
   "outputs": [
    {
     "data": {
      "text/plain": [
       "array([0, 0, 0, ..., 0, 0, 0], dtype=int64)"
      ]
     },
     "execution_count": 19,
     "metadata": {},
     "output_type": "execute_result"
    }
   ],
   "source": [
    "y_test_pred"
   ]
  },
  {
   "cell_type": "code",
   "execution_count": 20,
   "id": "e7e8c698",
   "metadata": {},
   "outputs": [
    {
     "data": {
      "text/plain": [
       "49453    0\n",
       "66648    1\n",
       "54233    0\n",
       "7172     0\n",
       "6300     1\n",
       "        ..\n",
       "43269    0\n",
       "29702    0\n",
       "49758    0\n",
       "19763    0\n",
       "10838    0\n",
       "Name: Tech, Length: 42575, dtype: int64"
      ]
     },
     "execution_count": 20,
     "metadata": {},
     "output_type": "execute_result"
    }
   ],
   "source": [
    "y_test"
   ]
  },
  {
   "cell_type": "code",
   "execution_count": 21,
   "id": "550f543e",
   "metadata": {},
   "outputs": [
    {
     "name": "stdout",
     "output_type": "stream",
     "text": [
      "Accuracy:0.7009982384028186\n",
      "Precision:0.0\n",
      "Recall:0.0\n"
     ]
    },
    {
     "name": "stderr",
     "output_type": "stream",
     "text": [
      "C:\\Users\\TracyCui\\anaconda3\\lib\\site-packages\\sklearn\\metrics\\_classification.py:1318: UndefinedMetricWarning: Precision is ill-defined and being set to 0.0 due to no predicted samples. Use `zero_division` parameter to control this behavior.\n",
      "  _warn_prf(average, modifier, msg_start, len(result))\n"
     ]
    }
   ],
   "source": [
    "from sklearn.metrics import accuracy_score, precision_score, recall_score\n",
    "print(\"Accuracy:{}\".format(accuracy_score(y_test, y_test_pred)))\n",
    "print(\"Precision:{}\".format(precision_score(y_test, y_test_pred)))\n",
    "print(\"Recall:{}\".format(recall_score(y_test, y_test_pred)))"
   ]
  },
  {
   "cell_type": "code",
   "execution_count": 22,
   "id": "834e9440",
   "metadata": {},
   "outputs": [],
   "source": [
    "%matplotlib inline"
   ]
  },
  {
   "cell_type": "code",
   "execution_count": 31,
   "id": "7d7b047d",
   "metadata": {},
   "outputs": [
    {
     "data": {
      "image/png": "[encoded data removed]",
      "text/plain": [
       "<Figure size 640x480 with 1 Axes>"
      ]
     },
     "metadata": {},
     "output_type": "display_data"
    }
   ],
   "source": [
    "import matplotlib.pyplot as plt\n",
    "plt.scatter(X_test['rating1'], X_test['rating2'], c=y_test_pred)\n",
    "plt.xlabel('rating1')\n",
    "plt.ylabel('rating2')\n",
    "plt.title('Classification Plot')\n",
    "plt.show()"
   ]
  },
  {
   "cell_type": "code",
   "execution_count": null,
   "id": "aa98d70c",
   "metadata": {},
   "outputs": [],
   "source": []
  }
 ],
 "metadata": {
  "kernelspec": {
   "display_name": "Python 3 (ipykernel)",
   "language": "python",
   "name": "python3"
  },
  "language_info": {
   "codemirror_mode": {
    "name": "ipython",
    "version": 3
   },
   "file_extension": ".py",
   "mimetype": "text/x-python",
   "name": "python",
   "nbconvert_exporter": "python",
   "pygments_lexer": "ipython3",
   "version": "3.9.13"
  }
 },
 "nbformat": 4,
 "nbformat_minor": 5
}
