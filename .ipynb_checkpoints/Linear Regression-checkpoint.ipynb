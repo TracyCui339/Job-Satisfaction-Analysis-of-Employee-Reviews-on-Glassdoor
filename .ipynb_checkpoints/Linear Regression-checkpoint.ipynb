{
 "cells": [
  {
   "cell_type": "code",
   "execution_count": 14,
   "id": "6de0bb2b",
   "metadata": {},
   "outputs": [],
   "source": [
    "import pandas as pd\n",
    "import numpy as np\n",
    "np.random.seed(123)\n",
    "import matplotlib.pyplot as plt\n",
    "%matplotlib inline\n",
    "import matplotlib\n",
    "matplotlib.rcParams['font.size']=8\n",
    "matplotlib.rcParams['figure.figsize']=(5,5)\n",
    "import seaborn as sns\n",
    "from IPython.core.pylabtools import figsize\n",
    "import scipy\n",
    "from scipy.stats import percentileofscore\n",
    "from scipy import stats\n",
    "import math\n",
    "from sklearn import datasets, linear_model\n",
    "from mpl_toolkits.mplot3d import Axes3D"
   ]
  },
  {
   "cell_type": "code",
   "execution_count": 2,
   "id": "fab8e094",
   "metadata": {},
   "outputs": [],
   "source": [
    "file_name='newedit.csv'\n",
    "df_data=pd.read_csv(file_name,sep=',',index_col=None, encoding='ISO-8859-1')"
   ]
  },
  {
   "cell_type": "code",
   "execution_count": 4,
   "id": "b448c522",
   "metadata": {},
   "outputs": [
    {
     "name": "stdout",
     "output_type": "stream",
     "text": [
      "The size of the dataset:  (67525, 16)\n"
     ]
    }
   ],
   "source": [
    "print('The size of the dataset: ', df_data.shape)"
   ]
  },
  {
   "cell_type": "code",
   "execution_count": 5,
   "id": "667a8def",
   "metadata": {},
   "outputs": [
    {
     "name": "stderr",
     "output_type": "stream",
     "text": [
      "C:\\Users\\TracyCui\\AppData\\Local\\Temp\\ipykernel_9644\\768104290.py:1: FutureWarning: The frame.append method is deprecated and will be removed from pandas in a future version. Use pandas.concat instead.\n",
      "  df_data.head(2).append(df_data.tail(2))\n"
     ]
    },
    {
     "data": {
      "text/html": [
       "<div>\n",
       "<style scoped>\n",
       "    .dataframe tbody tr th:only-of-type {\n",
       "        vertical-align: middle;\n",
       "    }\n",
       "\n",
       "    .dataframe tbody tr th {\n",
       "        vertical-align: top;\n",
       "    }\n",
       "\n",
       "    .dataframe thead th {\n",
       "        text-align: right;\n",
       "    }\n",
       "</style>\n",
       "<table border=\"1\" class=\"dataframe\">\n",
       "  <thead>\n",
       "    <tr style=\"text-align: right;\">\n",
       "      <th></th>\n",
       "      <th>idex</th>\n",
       "      <th>company</th>\n",
       "      <th>location</th>\n",
       "      <th>dates</th>\n",
       "      <th>job-title</th>\n",
       "      <th>summary</th>\n",
       "      <th>pros</th>\n",
       "      <th>cons</th>\n",
       "      <th>advice-to-mgmt</th>\n",
       "      <th>overall-ratings</th>\n",
       "      <th>work-balance-stars</th>\n",
       "      <th>culture-values-stars</th>\n",
       "      <th>carrer-opportunities-stars</th>\n",
       "      <th>comp-benefit-stars</th>\n",
       "      <th>senior-mangemnet-stars</th>\n",
       "      <th>helpful-count</th>\n",
       "    </tr>\n",
       "  </thead>\n",
       "  <tbody>\n",
       "    <tr>\n",
       "      <th>0</th>\n",
       "      <td>1</td>\n",
       "      <td>google</td>\n",
       "      <td>none</td>\n",
       "      <td>11-Dec-18</td>\n",
       "      <td>Current Employee - Anonymous Employee</td>\n",
       "      <td>Best Company to work for</td>\n",
       "      <td>People are smart and friendly</td>\n",
       "      <td>Bureaucracy is slowing things down</td>\n",
       "      <td>none</td>\n",
       "      <td>5</td>\n",
       "      <td>4</td>\n",
       "      <td>5</td>\n",
       "      <td>5</td>\n",
       "      <td>4</td>\n",
       "      <td>5</td>\n",
       "      <td>0</td>\n",
       "    </tr>\n",
       "    <tr>\n",
       "      <th>1</th>\n",
       "      <td>2</td>\n",
       "      <td>google</td>\n",
       "      <td>Mountain View, CA</td>\n",
       "      <td>21-Jun-13</td>\n",
       "      <td>Former Employee - Program Manager</td>\n",
       "      <td>Moving at the speed of light, burn out is inev...</td>\n",
       "      <td>1) Food, food, food. 15+ cafes on main campus ...</td>\n",
       "      <td>1) Work/life balance. What balance? All those ...</td>\n",
       "      <td>1) Don't dismiss emotional intelligence and ad...</td>\n",
       "      <td>4</td>\n",
       "      <td>2</td>\n",
       "      <td>3</td>\n",
       "      <td>3</td>\n",
       "      <td>5</td>\n",
       "      <td>3</td>\n",
       "      <td>2094</td>\n",
       "    </tr>\n",
       "    <tr>\n",
       "      <th>67523</th>\n",
       "      <td>67528</td>\n",
       "      <td>microsoft</td>\n",
       "      <td>none</td>\n",
       "      <td>15-Dec-10</td>\n",
       "      <td>Current Employee - Senior Test Lead</td>\n",
       "      <td>It's a competitive work place, with overload w...</td>\n",
       "      <td>Smart people around you, can learn from them</td>\n",
       "      <td>Politics, weak moral, leaning loyalty</td>\n",
       "      <td>none</td>\n",
       "      <td>3</td>\n",
       "      <td>2</td>\n",
       "      <td>none</td>\n",
       "      <td>3</td>\n",
       "      <td>3.5</td>\n",
       "      <td>3</td>\n",
       "      <td>0</td>\n",
       "    </tr>\n",
       "    <tr>\n",
       "      <th>67524</th>\n",
       "      <td>67529</td>\n",
       "      <td>microsoft</td>\n",
       "      <td>none</td>\n",
       "      <td>14-Dec-10</td>\n",
       "      <td>Former Employee - Senior Director</td>\n",
       "      <td>Used to be great</td>\n",
       "      <td>Compensation, Health benefits and brand name r...</td>\n",
       "      <td>Leadership was better in the late 90's....its ...</td>\n",
       "      <td>Good people keep leaving...you have to ask you...</td>\n",
       "      <td>2</td>\n",
       "      <td>2</td>\n",
       "      <td>none</td>\n",
       "      <td>2</td>\n",
       "      <td>4</td>\n",
       "      <td>2</td>\n",
       "      <td>0</td>\n",
       "    </tr>\n",
       "  </tbody>\n",
       "</table>\n",
       "</div>"
      ],
      "text/plain": [
       "        idex    company           location      dates  \\\n",
       "0          1     google               none  11-Dec-18   \n",
       "1          2     google  Mountain View, CA  21-Jun-13   \n",
       "67523  67528  microsoft               none  15-Dec-10   \n",
       "67524  67529  microsoft               none  14-Dec-10   \n",
       "\n",
       "                                   job-title  \\\n",
       "0      Current Employee - Anonymous Employee   \n",
       "1          Former Employee - Program Manager   \n",
       "67523    Current Employee - Senior Test Lead   \n",
       "67524      Former Employee - Senior Director   \n",
       "\n",
       "                                                 summary  \\\n",
       "0                               Best Company to work for   \n",
       "1      Moving at the speed of light, burn out is inev...   \n",
       "67523  It's a competitive work place, with overload w...   \n",
       "67524                                   Used to be great   \n",
       "\n",
       "                                                    pros  \\\n",
       "0                          People are smart and friendly   \n",
       "1      1) Food, food, food. 15+ cafes on main campus ...   \n",
       "67523       Smart people around you, can learn from them   \n",
       "67524  Compensation, Health benefits and brand name r...   \n",
       "\n",
       "                                                    cons  \\\n",
       "0                     Bureaucracy is slowing things down   \n",
       "1      1) Work/life balance. What balance? All those ...   \n",
       "67523              Politics, weak moral, leaning loyalty   \n",
       "67524  Leadership was better in the late 90's....its ...   \n",
       "\n",
       "                                          advice-to-mgmt  overall-ratings  \\\n",
       "0                                                   none                5   \n",
       "1      1) Don't dismiss emotional intelligence and ad...                4   \n",
       "67523                                               none                3   \n",
       "67524  Good people keep leaving...you have to ask you...                2   \n",
       "\n",
       "      work-balance-stars culture-values-stars carrer-opportunities-stars  \\\n",
       "0                      4                    5                          5   \n",
       "1                      2                    3                          3   \n",
       "67523                  2                 none                          3   \n",
       "67524                  2                 none                          2   \n",
       "\n",
       "      comp-benefit-stars senior-mangemnet-stars  helpful-count  \n",
       "0                      4                      5              0  \n",
       "1                      5                      3           2094  \n",
       "67523                3.5                      3              0  \n",
       "67524                  4                      2              0  "
      ]
     },
     "execution_count": 5,
     "metadata": {},
     "output_type": "execute_result"
    }
   ],
   "source": [
    "df_data.head(2).append(df_data.tail(2))"
   ]
  },
  {
   "cell_type": "code",
   "execution_count": 6,
   "id": "6da78f18",
   "metadata": {},
   "outputs": [
    {
     "name": "stdout",
     "output_type": "stream",
     "text": [
      "Dataset Information: \n",
      "<class 'pandas.core.frame.DataFrame'>\n",
      "RangeIndex: 67525 entries, 0 to 67524\n",
      "Data columns (total 16 columns):\n",
      " #   Column                      Non-Null Count  Dtype \n",
      "---  ------                      --------------  ----- \n",
      " 0   idex                        67525 non-null  int64 \n",
      " 1   company                     67525 non-null  object\n",
      " 2   location                    67525 non-null  object\n",
      " 3   dates                       67525 non-null  object\n",
      " 4   job-title                   67525 non-null  object\n",
      " 5   summary                     67405 non-null  object\n",
      " 6   pros                        67525 non-null  object\n",
      " 7   cons                        67525 non-null  object\n",
      " 8   advice-to-mgmt              67228 non-null  object\n",
      " 9   overall-ratings             67525 non-null  int64 \n",
      " 10  work-balance-stars          67525 non-null  object\n",
      " 11  culture-values-stars        67525 non-null  object\n",
      " 12  carrer-opportunities-stars  67525 non-null  object\n",
      " 13  comp-benefit-stars          67525 non-null  object\n",
      " 14  senior-mangemnet-stars      67525 non-null  object\n",
      " 15  helpful-count               67525 non-null  int64 \n",
      "dtypes: int64(3), object(13)\n",
      "memory usage: 8.2+ MB\n"
     ]
    }
   ],
   "source": [
    "print('Dataset Information: ')\n",
    "df_data.info()"
   ]
  },
  {
   "cell_type": "code",
   "execution_count": 7,
   "id": "28ad7185",
   "metadata": {},
   "outputs": [],
   "source": [
    "df_data.rename(columns={'overall-ratings':'overall'},inplace=True)\n",
    "df_data.rename(columns={'work-balance-stars':'rating1'},inplace=True)\n",
    "df_data.rename(columns={'culture-values-stars':'rating2'},inplace=True)\n",
    "df_data.rename(columns={'carrer-opportunities-stars':'rating3'},inplace=True)\n",
    "df_data.rename(columns={'comp-benefit-stars':'rating4'},inplace=True)\n",
    "df_data.rename(columns={'senior-mangemnet-stars':'rating5'},inplace=True)"
   ]
  },
  {
   "cell_type": "code",
   "execution_count": 8,
   "id": "e8041103",
   "metadata": {},
   "outputs": [],
   "source": [
    "df_data = df_data.applymap(lambda x: x if x!='none' else np.nan)\n",
    "df_data = df_data.dropna(subset=['rating1','rating2','rating3','rating4','rating5'])"
   ]
  },
  {
   "cell_type": "code",
   "execution_count": 10,
   "id": "8231415e",
   "metadata": {},
   "outputs": [
    {
     "name": "stdout",
     "output_type": "stream",
     "text": [
      "<class 'pandas.core.frame.DataFrame'>\n",
      "Int64Index: 53218 entries, 0 to 66981\n",
      "Data columns (total 16 columns):\n",
      " #   Column          Non-Null Count  Dtype \n",
      "---  ------          --------------  ----- \n",
      " 0   idex            53218 non-null  int64 \n",
      " 1   company         53218 non-null  string\n",
      " 2   location        35711 non-null  string\n",
      " 3   dates           53218 non-null  object\n",
      " 4   job-title       53218 non-null  string\n",
      " 5   summary         53135 non-null  string\n",
      " 6   pros            53218 non-null  string\n",
      " 7   cons            53217 non-null  string\n",
      " 8   advice-to-mgmt  30371 non-null  string\n",
      " 9   overall         53218 non-null  int64 \n",
      " 10  rating1         53218 non-null  int64 \n",
      " 11  rating2         53218 non-null  int64 \n",
      " 12  rating3         53218 non-null  int64 \n",
      " 13  rating4         53218 non-null  int64 \n",
      " 14  rating5         53218 non-null  int64 \n",
      " 15  helpful-count   53218 non-null  int64 \n",
      "dtypes: int64(8), object(1), string(7)\n",
      "memory usage: 6.9+ MB\n"
     ]
    }
   ],
   "source": [
    "dtypes={'rating1':'int64',\n",
    "        'rating2':'int64',\n",
    "        'rating3':'int64',\n",
    "        'rating4':'int64',\n",
    "        'rating5':'int64',\n",
    "        'company':'string',\n",
    "        'location':'string',\n",
    "        'job-title':'string',\n",
    "        'summary':'string',\n",
    "        'pros':'string',\n",
    "        'cons':'string',\n",
    "        'advice-to-mgmt':'string'}\n",
    "df_data=df_data.astype(dtypes)\n",
    "df_data.info()"
   ]
  },
  {
   "cell_type": "code",
   "execution_count": 13,
   "id": "eb6a5c18",
   "metadata": {},
   "outputs": [
    {
     "data": {
      "text/plain": [
       "idex                  0\n",
       "company               0\n",
       "location          17507\n",
       "dates                 0\n",
       "job-title             0\n",
       "summary              83\n",
       "pros                  0\n",
       "cons                  1\n",
       "advice-to-mgmt    22847\n",
       "overall               0\n",
       "rating1               0\n",
       "rating2               0\n",
       "rating3               0\n",
       "rating4               0\n",
       "rating5               0\n",
       "helpful-count         0\n",
       "dtype: int64"
      ]
     },
     "execution_count": 13,
     "metadata": {},
     "output_type": "execute_result"
    }
   ],
   "source": [
    "df_data.isnull().sum()"
   ]
  },
  {
   "cell_type": "code",
   "execution_count": 15,
   "id": "1d072327",
   "metadata": {},
   "outputs": [
    {
     "name": "stdout",
     "output_type": "stream",
     "text": [
      "Coefficients: [0.12983305 0.31597821 0.22769739 0.11095756 0.16580561]\n",
      "Intercept: 0.38571286234751323\n"
     ]
    }
   ],
   "source": [
    "from sklearn import linear_model\n",
    "\n",
    "x = df_data[['rating1','rating2','rating3','rating4','rating5']].values\n",
    "y = df_data['overall'].values\n",
    "\n",
    "regr = linear_model.LinearRegression()\n",
    "regr.fit(x,y)\n",
    "\n",
    "print('Coefficients:', regr.coef_)\n",
    "print('Intercept:', regr.intercept_)"
   ]
  },
  {
   "cell_type": "code",
   "execution_count": 21,
   "id": "e8a3f1b2",
   "metadata": {},
   "outputs": [],
   "source": [
    "from sklearn.model_selection import train_test_split"
   ]
  },
  {
   "cell_type": "code",
   "execution_count": 19,
   "id": "f00b31c9",
   "metadata": {},
   "outputs": [
    {
     "name": "stdout",
     "output_type": "stream",
     "text": [
      "Coefficients: [0.13047211 0.31588424 0.22815057 0.10916584 0.16551276]\n",
      "Intercept: 0.38949301576008954\n"
     ]
    }
   ],
   "source": [
    "X_train, X_test, y_train, y_test = train_test_split(x, y, \n",
    "                                                    test_size = 0.25,\n",
    "                                                    random_state=123)\n",
    "#对训练集拟合模型\n",
    "regr = linear_model.LinearRegression()\n",
    "regr.fit(X_train, y_train)\n",
    "print('Coefficients:', regr.coef_)\n",
    "print('Intercept:', regr.intercept_)"
   ]
  },
  {
   "cell_type": "code",
   "execution_count": 22,
   "id": "6a4096c9",
   "metadata": {},
   "outputs": [
    {
     "name": "stdout",
     "output_type": "stream",
     "text": [
      "Test MAE: 0.46645609898630536\n",
      "Test MSE: 0.3908872801723313\n"
     ]
    }
   ],
   "source": [
    "from sklearn import metrics\n",
    "y_pred = regr.predict(X_test)\n",
    "\n",
    "print('Test MAE:',metrics.mean_absolute_error(y_test, y_pred))\n",
    "print('Test MSE:',metrics.mean_squared_error(y_test, y_pred))"
   ]
  },
  {
   "cell_type": "code",
   "execution_count": null,
   "id": "d4b858ad",
   "metadata": {},
   "outputs": [],
   "source": []
  }
 ],
 "metadata": {
  "kernelspec": {
   "display_name": "Python 3 (ipykernel)",
   "language": "python",
   "name": "python3"
  },
  "language_info": {
   "codemirror_mode": {
    "name": "ipython",
    "version": 3
   },
   "file_extension": ".py",
   "mimetype": "text/x-python",
   "name": "python",
   "nbconvert_exporter": "python",
   "pygments_lexer": "ipython3",
   "version": "3.9.13"
  }
 },
 "nbformat": 4,
 "nbformat_minor": 5
}
