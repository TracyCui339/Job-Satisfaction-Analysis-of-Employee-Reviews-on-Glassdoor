{
 "cells": [
  {
   "cell_type": "code",
   "execution_count": 4,
   "id": "559abaa9",
   "metadata": {},
   "outputs": [],
   "source": [
    "import pandas as pd\n",
    "\n",
    "# 读取原始文件\n",
    "df = pd.read_csv('after_tech.csv')\n",
    "\n",
    "# 计算这六列的平均值\n",
    "df['Sentiment'] = df[['overall', 'rating1', 'rating2', 'rating3', 'rating4', 'rating5']].mean(axis=1)\n",
    "\n",
    "# 保存修改后的DataFrame为新的csv文件\n",
    "df.to_csv('datawithsentiment.csv', index=False)"
   ]
  },
  {
   "cell_type": "code",
   "execution_count": 5,
   "id": "080d7fa4",
   "metadata": {},
   "outputs": [
    {
     "name": "stdout",
     "output_type": "stream",
     "text": [
      "0    4.666667\n",
      "1    3.333333\n",
      "2    4.666667\n",
      "3    4.333333\n",
      "4    5.000000\n",
      "Name: Sentiment, dtype: float64\n"
     ]
    }
   ],
   "source": [
    "print(df['Sentiment'].head())"
   ]
  },
  {
   "cell_type": "code",
   "execution_count": 6,
   "id": "cef21046",
   "metadata": {},
   "outputs": [],
   "source": [
    "\n",
    "# 读取原始文件\n",
    "df = pd.read_csv('datawithsentiment.csv')\n",
    "\n",
    "# 根据平均值的大小将“Sentiment”列中的值替换为0或1\n",
    "df['Sentiment'] = df['Sentiment'].apply(lambda x: 1 if x > 2.5 else 0)\n",
    "\n",
    "# 保存修改后的DataFrame为原始文件\n",
    "df.to_csv('datawithsentiment.csv', index=False)\n"
   ]
  },
  {
   "cell_type": "code",
   "execution_count": 7,
   "id": "8db15c78",
   "metadata": {},
   "outputs": [
    {
     "name": "stdout",
     "output_type": "stream",
     "text": [
      "1    44909\n",
      "0     8309\n",
      "Name: Sentiment, dtype: int64\n"
     ]
    }
   ],
   "source": [
    "print(df['Sentiment'].value_counts())"
   ]
  },
  {
   "cell_type": "code",
   "execution_count": null,
   "id": "662b2815",
   "metadata": {},
   "outputs": [],
   "source": []
  }
 ],
 "metadata": {
  "kernelspec": {
   "display_name": "Python 3 (ipykernel)",
   "language": "python",
   "name": "python3"
  },
  "language_info": {
   "codemirror_mode": {
    "name": "ipython",
    "version": 3
   },
   "file_extension": ".py",
   "mimetype": "text/x-python",
   "name": "python",
   "nbconvert_exporter": "python",
   "pygments_lexer": "ipython3",
   "version": "3.9.13"
  }
 },
 "nbformat": 4,
 "nbformat_minor": 5
}
