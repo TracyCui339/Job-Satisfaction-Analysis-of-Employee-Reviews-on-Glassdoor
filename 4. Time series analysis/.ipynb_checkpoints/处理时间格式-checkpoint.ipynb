{
 "cells": [
  {
   "cell_type": "code",
   "execution_count": 4,
   "id": "a8730260",
   "metadata": {},
   "outputs": [],
   "source": [
    "import pandas as pd\n",
    "\n",
    "# 读入数据\n",
    "data = pd.read_csv('all_data.csv')\n",
    "\n",
    "# 定义函数处理时间数据\n",
    "def process_timestamp(timestamp):\n",
    "    return pd.to_datetime(timestamp).year\n",
    "\n",
    "# 应用函数到Timestamp列上，生成新列Year\n",
    "data['Year'] = data['Timestamp'].apply(lambda x: process_timestamp(x))\n",
    "\n",
    "# 保存处理后的数据到新文件\n",
    "data.to_csv('predictdata_with_year.csv', index=False)"
   ]
  },
  {
   "cell_type": "code",
   "execution_count": 5,
   "id": "5851cbda",
   "metadata": {},
   "outputs": [],
   "source": [
    "import pandas as pd\n",
    "from datetime import datetime\n",
    "\n",
    "# 读取数据\n",
    "data = pd.read_csv(\"all_data.csv\")\n",
    "\n",
    "# 处理时间数据\n",
    "timestamps = data[\"Timestamp\"]\n",
    "years_months = []\n",
    "for ts in timestamps:\n",
    "    dt = datetime.strptime(ts, \"%Y/%m/%d %H:%M\")\n",
    "    year_month = dt.strftime(\"%Y-%m\")\n",
    "    years_months.append(year_month)\n",
    "\n",
    "# 添加新列\n",
    "data[\"Year_Month\"] = years_months\n",
    "\n",
    "# 保存数据\n",
    "data.to_csv(\"new_predictdata.csv\", index=False)\n"
   ]
  },
  {
   "cell_type": "code",
   "execution_count": null,
   "id": "12fd4089",
   "metadata": {},
   "outputs": [],
   "source": []
  }
 ],
 "metadata": {
  "kernelspec": {
   "display_name": "Python 3 (ipykernel)",
   "language": "python",
   "name": "python3"
  },
  "language_info": {
   "codemirror_mode": {
    "name": "ipython",
    "version": 3
   },
   "file_extension": ".py",
   "mimetype": "text/x-python",
   "name": "python",
   "nbconvert_exporter": "python",
   "pygments_lexer": "ipython3",
   "version": "3.9.13"
  }
 },
 "nbformat": 4,
 "nbformat_minor": 5
}
