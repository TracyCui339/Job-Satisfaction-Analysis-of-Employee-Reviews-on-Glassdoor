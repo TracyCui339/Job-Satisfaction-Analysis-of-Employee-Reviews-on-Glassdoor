{
 "cells": [
  {
   "cell_type": "code",
   "execution_count": 9,
   "id": "12fd4089",
   "metadata": {},
   "outputs": [],
   "source": [
    "import pandas as pd\n",
    "\n",
    "data = pd.read_csv('timedata2.csv', encoding='utf-8')"
   ]
  },
  {
   "cell_type": "code",
   "execution_count": 12,
   "id": "1fe7c841",
   "metadata": {},
   "outputs": [
    {
     "data": {
      "text/plain": [
       "Sep 19, 2017    272\n",
       "Jun 11, 2008    126\n",
       "Sep 18, 2017    106\n",
       "Aug 29, 2018     97\n",
       "Sep 25, 2017     96\n",
       "               ... \n",
       "Jul 12, 2010      1\n",
       "Apr 30, 2010      1\n",
       "Feb 7, 2010       1\n",
       "Sep 30, 2009      1\n",
       "Jan 7, 2011       1\n",
       "Name: dates, Length: 3824, dtype: int64"
      ]
     },
     "execution_count": 12,
     "metadata": {},
     "output_type": "execute_result"
    }
   ],
   "source": [
    "data['dates'].value_counts()"
   ]
  },
  {
   "cell_type": "code",
   "execution_count": 14,
   "id": "63804ed1",
   "metadata": {},
   "outputs": [
    {
     "data": {
      "text/plain": [
       "dtype('O')"
      ]
     },
     "execution_count": 14,
     "metadata": {},
     "output_type": "execute_result"
    }
   ],
   "source": [
    "data['dates'].dtype"
   ]
  },
  {
   "cell_type": "code",
   "execution_count": 17,
   "id": "ded564e6",
   "metadata": {},
   "outputs": [
    {
     "data": {
      "text/plain": [
       "0"
      ]
     },
     "execution_count": 17,
     "metadata": {},
     "output_type": "execute_result"
    }
   ],
   "source": [
    "data['dates'].isnull().sum()"
   ]
  },
  {
   "cell_type": "code",
   "execution_count": 18,
   "id": "ba9a22c1",
   "metadata": {},
   "outputs": [],
   "source": [
    "import pandas as pd\n",
    "\n",
    "\n",
    "data = pd.read_csv('timedata2.csv')\n",
    "\n",
    "data['year'] = data['dates'].str[-4:]\n",
    "\n",
    "\n",
    "data.to_csv('timedata.csv', index=False)"
   ]
  },
  {
   "cell_type": "code",
   "execution_count": 21,
   "id": "3428d2d1",
   "metadata": {},
   "outputs": [],
   "source": [
    "data = pd.read_csv('timedata.csv')\n",
    "\n",
    "data['Year'] = data['dates'].str[-4:]\n",
    "data['Month'] = data['dates'].str.extract('(\\w+) ')\n",
    "\n",
    "data['Yearmonth'] = pd.to_datetime(data['Year'] + data['Month'], format='%Y%b', errors='coerce')\n",
    "\n",
    "data = data[data['Yearmonth'].notna()]\n",
    "\n",
    "data.to_csv('timedata.csv', index=False)"
   ]
  }
 ],
 "metadata": {
  "kernelspec": {
   "display_name": "Python 3 (ipykernel)",
   "language": "python",
   "name": "python3"
  },
  "language_info": {
   "codemirror_mode": {
    "name": "ipython",
    "version": 3
   },
   "file_extension": ".py",
   "mimetype": "text/x-python",
   "name": "python",
   "nbconvert_exporter": "python",
   "pygments_lexer": "ipython3",
   "version": "3.9.13"
  }
 },
 "nbformat": 4,
 "nbformat_minor": 5
}
