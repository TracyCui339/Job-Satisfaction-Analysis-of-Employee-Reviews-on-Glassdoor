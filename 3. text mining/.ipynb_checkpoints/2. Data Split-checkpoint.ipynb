{
 "cells": [
  {
   "cell_type": "code",
   "execution_count": null,
   "id": "a6c1f3d1",
   "metadata": {},
   "outputs": [],
   "source": [
    "import pandas as pd\n",
    "import numpy as np"
   ]
  },
  {
   "cell_type": "code",
   "execution_count": 17,
   "id": "a3cba9d2",
   "metadata": {},
   "outputs": [
    {
     "name": "stderr",
     "output_type": "stream",
     "text": [
      "C:\\Users\\TracyCui\\AppData\\Local\\Temp\\ipykernel_5696\\266034337.py:24: SettingWithCopyWarning: \n",
      "A value is trying to be set on a copy of a slice from a DataFrame.\n",
      "Try using .loc[row_indexer,col_indexer] = value instead\n",
      "\n",
      "See the caveats in the documentation: https://pandas.pydata.org/pandas-docs/stable/user_guide/indexing.html#returning-a-view-versus-a-copy\n",
      "  train_data['split'] = 'train'\n",
      "C:\\Users\\TracyCui\\AppData\\Local\\Temp\\ipykernel_5696\\266034337.py:25: SettingWithCopyWarning: \n",
      "A value is trying to be set on a copy of a slice from a DataFrame.\n",
      "Try using .loc[row_indexer,col_indexer] = value instead\n",
      "\n",
      "See the caveats in the documentation: https://pandas.pydata.org/pandas-docs/stable/user_guide/indexing.html#returning-a-view-versus-a-copy\n",
      "  val_data['split'] = 'val'\n",
      "C:\\Users\\TracyCui\\AppData\\Local\\Temp\\ipykernel_5696\\266034337.py:26: SettingWithCopyWarning: \n",
      "A value is trying to be set on a copy of a slice from a DataFrame.\n",
      "Try using .loc[row_indexer,col_indexer] = value instead\n",
      "\n",
      "See the caveats in the documentation: https://pandas.pydata.org/pandas-docs/stable/user_guide/indexing.html#returning-a-view-versus-a-copy\n",
      "  test_data['split'] = 'test'\n"
     ]
    }
   ],
   "source": [
    "data = pd.read_csv(\"modeldata.csv\")\n",
    "\n",
    "data = data.sample(frac=1, random_state=42)\n",
    "\n",
    "data_size = len(data)\n",
    "\n",
    "train_size = int(0.8 * data_size)\n",
    "val_size = int(0.1 * data_size)\n",
    "test_size = data_size - train_size - val_size\n",
    "\n",
    "train_data = data[:train_size]\n",
    "val_data = data[train_size:train_size+val_size]\n",
    "test_data = data[train_size+val_size:]\n",
    "\n",
    "train_data['split'] = 'train'\n",
    "val_data['split'] = 'val'\n",
    "test_data['split'] = 'test'\n",
    "\n",
    "merged_data = pd.concat([train_data, val_data, test_data], axis=0)\n",
    "\n",
    "merged_data.to_csv(\"modeldata_split.csv\", index=False)"
   ]
  },
  {
   "cell_type": "code",
   "execution_count": null,
   "id": "e3286615",
   "metadata": {},
   "outputs": [],
   "source": []
  }
 ],
 "metadata": {
  "kernelspec": {
   "display_name": "Python 3 (ipykernel)",
   "language": "python",
   "name": "python3"
  },
  "language_info": {
   "codemirror_mode": {
    "name": "ipython",
    "version": 3
   },
   "file_extension": ".py",
   "mimetype": "text/x-python",
   "name": "python",
   "nbconvert_exporter": "python",
   "pygments_lexer": "ipython3",
   "version": "3.9.13"
  }
 },
 "nbformat": 4,
 "nbformat_minor": 5
}
